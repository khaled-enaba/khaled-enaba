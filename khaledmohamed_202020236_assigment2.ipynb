{
  "nbformat": 4,
  "nbformat_minor": 0,
  "metadata": {
    "colab": {
      "provenance": [],
      "include_colab_link": true
    },
    "kernelspec": {
      "name": "python3",
      "display_name": "Python 3"
    },
    "language_info": {
      "name": "python"
    }
  },
  "cells": [
    {
      "cell_type": "markdown",
      "metadata": {
        "id": "view-in-github",
        "colab_type": "text"
      },
      "source": [
        "<a href=\"https://colab.research.google.com/github/khaled-enaba/khaled-enaba/blob/main/khaledmohamed_202020236_assigment2.ipynb\" target=\"_parent\"><img src=\"https://colab.research.google.com/assets/colab-badge.svg\" alt=\"Open In Colab\"/></a>"
      ]
    },
    {
      "cell_type": "code",
      "execution_count": 8,
      "metadata": {
        "colab": {
          "base_uri": "https://localhost:8080/"
        },
        "id": "KfMkJLYbDgTS",
        "outputId": "25f432ad-fa39-46a2-e586-c599b550b760"
      },
      "outputs": [
        {
          "output_type": "stream",
          "name": "stdout",
          "text": [
            "Model Accuracy: 87.94%\n"
          ]
        }
      ],
      "source": [
        "import pandas as pd\n",
        "from sklearn.model_selection import train_test_split\n",
        "from sklearn.linear_model import LogisticRegression\n",
        "from sklearn.metrics import accuracy_score\n",
        "import matplotlib.pyplot as plt\n",
        "import seaborn as sns\n",
        "\n",
        "fruit_data = pd.read_csv('/content/sample_data/fruit_quality.csv')\n",
        "\n",
        "fruit_data = fruit_data.dropna()\n",
        "\n",
        "fruit_data = pd.get_dummies(fruit_data)\n",
        "\n",
        "features = fruit_data.drop(['Quality_Bad', 'Quality_Good'], axis=1)\n",
        "target = fruit_data['Quality_Good']\n",
        "\n",
        "features_train, features_test, target_train, target_test = train_test_split(features, target, test_size=0.2, random_state=42)\n",
        "\n",
        "log_reg_model = LogisticRegression()\n",
        "\n",
        "log_reg_model.fit(features_train, target_train)\n",
        "\n",
        "target_pred = log_reg_model.predict(features_test)\n",
        "\n",
        "model_accuracy = accuracy_score(target_test, target_pred)\n",
        "\n",
        "print(f'Model Accuracy: {model_accuracy*100:.2f}%')"
      ]
    }
  ]
}